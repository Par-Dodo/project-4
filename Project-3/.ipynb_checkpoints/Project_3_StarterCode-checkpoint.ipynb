{
 "cells": [
  {
   "cell_type": "code",
   "execution_count": 27,
   "id": "a62722ed",
   "metadata": {
    "scrolled": true
   },
   "outputs": [],
   "source": [
    "import requests\n",
    "import pandas as pd\n",
    "import numpy as np\n",
    "import psycopg2\n",
    "import sqlalchemy\n",
    "import csv\n",
    "import os\n",
    "import time\n",
    "from decimal import Decimal\n",
    "from sqlalchemy.orm import Session, session\n",
    "from sqlalchemy import create_engine\n",
    "from sqlalchemy_utils import database_exists, create_database\n",
    "password = 1234"
   ]
  },
  {
   "cell_type": "code",
   "execution_count": 40,
   "id": "1cc08ef2",
   "metadata": {},
   "outputs": [],
   "source": [
    "states = ['Alabama','Alaska','Arizona','Arkansas','California','Colorado','Connecticut','Delaware','District of Columbia','Florida','Georgia','Hawaii','Idaho','Illinois','Indiana','Iowa','Kansas','Kentucky','Louisiana','Maine','Maryland','Massachusetts','Michigan','Minnesota','Mississippi','Missouri','Montana','Nebraska','Nevada','New Hampshire','New Jersey','New Mexico','New York','North Carolina','North Dakota','Ohio','Oklahoma','Oregon','Pennsylvania','Rhode Island','South Carolina','South Dakota','Tennessee','Texas','Utah','Vermont','Virginia','Washington','West Virginia','Wisconsin','Wyoming']\n",
    "states_abbrev = ['AL','AK','AZ','AR','CA','CO','CT','DE','DC','FL','GA','HI','ID','IL','IN','IA','KS','KY','LA','ME','MD','MA','MI','MN','MS','MO','MT','NE','NV','NH','NJ','NM','NY','NC','ND','OH','OK','OR','PA','RI','SC','SD','TN','TX','UT','VT','VA','WA','WV','WI','WY']\n",
    "df_columns = ['Alabama','Alaska','Arizona','Arkansas','California','Colorado','Connecticut','Delaware','District of Columbia','Florida','Georgia','Hawaii','Idaho','Illinois','Indiana','Iowa','Kansas','Kentucky','Louisiana','Maine','Maryland','Massachusetts','Michigan','Minnesota','Mississippi','Missouri','Montana','Nebraska','Nevada','New Hampshire','New Jersey','New Mexico','New York','North Carolina','North Dakota','Ohio','Oklahoma','Oregon','Pennsylvania','Rhode Island','South Carolina','South Dakota','Tennessee','Texas','Utah','Vermont','Virginia','Washington','West Virginia','Wisconsin','Wyoming']"
   ]
  },
  {
   "cell_type": "code",
   "execution_count": 3,
   "id": "bd9d74ba",
   "metadata": {},
   "outputs": [],
   "source": [
    "url = \"https://api.census.gov/data/2019/acs/flows?get=MOVEDIN,STATE1_NAME,STATE2_NAME,MOVEDOUT,FULL2_NAME,MOVEDNET&for=county:*\""
   ]
  },
  {
   "cell_type": "code",
   "execution_count": 4,
   "id": "1f3ab43f",
   "metadata": {},
   "outputs": [],
   "source": [
    "migration_data_2019 = pd.read_json(url)"
   ]
  },
  {
   "cell_type": "code",
   "execution_count": 5,
   "id": "3b335b34",
   "metadata": {},
   "outputs": [],
   "source": [
    "#migration_data_2019"
   ]
  },
  {
   "cell_type": "code",
   "execution_count": 6,
   "id": "af57e428",
   "metadata": {
    "scrolled": true
   },
   "outputs": [
    {
     "data": {
      "text/html": [
       "<div>\n",
       "<style scoped>\n",
       "    .dataframe tbody tr th:only-of-type {\n",
       "        vertical-align: middle;\n",
       "    }\n",
       "\n",
       "    .dataframe tbody tr th {\n",
       "        vertical-align: top;\n",
       "    }\n",
       "\n",
       "    .dataframe thead th {\n",
       "        text-align: right;\n",
       "    }\n",
       "</style>\n",
       "<table border=\"1\" class=\"dataframe\">\n",
       "  <thead>\n",
       "    <tr style=\"text-align: right;\">\n",
       "      <th></th>\n",
       "      <th>MOVEDIN</th>\n",
       "      <th>STATE1_NAME</th>\n",
       "      <th>STATE2_NAME</th>\n",
       "      <th>MOVEDOUT</th>\n",
       "      <th>FULL2_NAME</th>\n",
       "      <th>MOVEDNET</th>\n",
       "      <th>state</th>\n",
       "      <th>county</th>\n",
       "    </tr>\n",
       "  </thead>\n",
       "  <tbody>\n",
       "    <tr>\n",
       "      <th>1</th>\n",
       "      <td>66</td>\n",
       "      <td>Alabama</td>\n",
       "      <td>Asia</td>\n",
       "      <td>None</td>\n",
       "      <td>Asia</td>\n",
       "      <td>None</td>\n",
       "      <td>01</td>\n",
       "      <td>001</td>\n",
       "    </tr>\n",
       "    <tr>\n",
       "      <th>2</th>\n",
       "      <td>10</td>\n",
       "      <td>Alabama</td>\n",
       "      <td>Europe</td>\n",
       "      <td>None</td>\n",
       "      <td>Europe</td>\n",
       "      <td>None</td>\n",
       "      <td>01</td>\n",
       "      <td>001</td>\n",
       "    </tr>\n",
       "    <tr>\n",
       "      <th>3</th>\n",
       "      <td>18</td>\n",
       "      <td>Alabama</td>\n",
       "      <td>U.S. Island Areas</td>\n",
       "      <td>None</td>\n",
       "      <td>U.S. Island Areas</td>\n",
       "      <td>None</td>\n",
       "      <td>01</td>\n",
       "      <td>001</td>\n",
       "    </tr>\n",
       "    <tr>\n",
       "      <th>4</th>\n",
       "      <td>25</td>\n",
       "      <td>Alabama</td>\n",
       "      <td>Alabama</td>\n",
       "      <td>448</td>\n",
       "      <td>Baldwin County, Alabama</td>\n",
       "      <td>-423</td>\n",
       "      <td>01</td>\n",
       "      <td>001</td>\n",
       "    </tr>\n",
       "    <tr>\n",
       "      <th>5</th>\n",
       "      <td>4</td>\n",
       "      <td>Alabama</td>\n",
       "      <td>Alabama</td>\n",
       "      <td>0</td>\n",
       "      <td>Barbour County, Alabama</td>\n",
       "      <td>4</td>\n",
       "      <td>01</td>\n",
       "      <td>001</td>\n",
       "    </tr>\n",
       "    <tr>\n",
       "      <th>...</th>\n",
       "      <td>...</td>\n",
       "      <td>...</td>\n",
       "      <td>...</td>\n",
       "      <td>...</td>\n",
       "      <td>...</td>\n",
       "      <td>...</td>\n",
       "      <td>...</td>\n",
       "      <td>...</td>\n",
       "    </tr>\n",
       "    <tr>\n",
       "      <th>505932</th>\n",
       "      <td>0</td>\n",
       "      <td>Puerto Rico</td>\n",
       "      <td>New York</td>\n",
       "      <td>69</td>\n",
       "      <td>Rochester city, Monroe County, New York</td>\n",
       "      <td>-69</td>\n",
       "      <td>72</td>\n",
       "      <td>153</td>\n",
       "    </tr>\n",
       "    <tr>\n",
       "      <th>505933</th>\n",
       "      <td>40</td>\n",
       "      <td>Puerto Rico</td>\n",
       "      <td>New York</td>\n",
       "      <td>0</td>\n",
       "      <td>Manhattan borough, New York County, New York</td>\n",
       "      <td>40</td>\n",
       "      <td>72</td>\n",
       "      <td>153</td>\n",
       "    </tr>\n",
       "    <tr>\n",
       "      <th>505934</th>\n",
       "      <td>0</td>\n",
       "      <td>Puerto Rico</td>\n",
       "      <td>Pennsylvania</td>\n",
       "      <td>14</td>\n",
       "      <td>Upper Macungie township, Lehigh County, Pennsy...</td>\n",
       "      <td>-14</td>\n",
       "      <td>72</td>\n",
       "      <td>153</td>\n",
       "    </tr>\n",
       "    <tr>\n",
       "      <th>505935</th>\n",
       "      <td>0</td>\n",
       "      <td>Puerto Rico</td>\n",
       "      <td>Pennsylvania</td>\n",
       "      <td>42</td>\n",
       "      <td>Hanover borough, York County, Pennsylvania</td>\n",
       "      <td>-42</td>\n",
       "      <td>72</td>\n",
       "      <td>153</td>\n",
       "    </tr>\n",
       "    <tr>\n",
       "      <th>505936</th>\n",
       "      <td>39</td>\n",
       "      <td>Puerto Rico</td>\n",
       "      <td>Wisconsin</td>\n",
       "      <td>0</td>\n",
       "      <td>Waukesha city, Waukesha County, Wisconsin</td>\n",
       "      <td>39</td>\n",
       "      <td>72</td>\n",
       "      <td>153</td>\n",
       "    </tr>\n",
       "  </tbody>\n",
       "</table>\n",
       "<p>505936 rows × 8 columns</p>\n",
       "</div>"
      ],
      "text/plain": [
       "0      MOVEDIN  STATE1_NAME        STATE2_NAME MOVEDOUT  \\\n",
       "1           66      Alabama               Asia     None   \n",
       "2           10      Alabama             Europe     None   \n",
       "3           18      Alabama  U.S. Island Areas     None   \n",
       "4           25      Alabama            Alabama      448   \n",
       "5            4      Alabama            Alabama        0   \n",
       "...        ...          ...                ...      ...   \n",
       "505932       0  Puerto Rico           New York       69   \n",
       "505933      40  Puerto Rico           New York        0   \n",
       "505934       0  Puerto Rico       Pennsylvania       14   \n",
       "505935       0  Puerto Rico       Pennsylvania       42   \n",
       "505936      39  Puerto Rico          Wisconsin        0   \n",
       "\n",
       "0                                              FULL2_NAME MOVEDNET state  \\\n",
       "1                                                    Asia     None    01   \n",
       "2                                                  Europe     None    01   \n",
       "3                                       U.S. Island Areas     None    01   \n",
       "4                                 Baldwin County, Alabama     -423    01   \n",
       "5                                 Barbour County, Alabama        4    01   \n",
       "...                                                   ...      ...   ...   \n",
       "505932            Rochester city, Monroe County, New York      -69    72   \n",
       "505933       Manhattan borough, New York County, New York       40    72   \n",
       "505934  Upper Macungie township, Lehigh County, Pennsy...      -14    72   \n",
       "505935         Hanover borough, York County, Pennsylvania      -42    72   \n",
       "505936          Waukesha city, Waukesha County, Wisconsin       39    72   \n",
       "\n",
       "0      county  \n",
       "1         001  \n",
       "2         001  \n",
       "3         001  \n",
       "4         001  \n",
       "5         001  \n",
       "...       ...  \n",
       "505932    153  \n",
       "505933    153  \n",
       "505934    153  \n",
       "505935    153  \n",
       "505936    153  \n",
       "\n",
       "[505936 rows x 8 columns]"
      ]
     },
     "execution_count": 6,
     "metadata": {},
     "output_type": "execute_result"
    }
   ],
   "source": [
    "migration_data_2019.columns = migration_data_2019.iloc[0]\n",
    "migration_data_2019 = migration_data_2019.drop(index=0)\n",
    "migration_data_2019"
   ]
  },
  {
   "cell_type": "code",
   "execution_count": 7,
   "id": "f58ed8d1",
   "metadata": {},
   "outputs": [],
   "source": [
    "migration_data_2019.columns  = [i.lower() for i in migration_data_2019.columns]"
   ]
  },
  {
   "cell_type": "code",
   "execution_count": 8,
   "id": "bcb9617f",
   "metadata": {
    "scrolled": true
   },
   "outputs": [],
   "source": [
    "#migration_data_2019"
   ]
  },
  {
   "cell_type": "code",
   "execution_count": 9,
   "id": "263e226e",
   "metadata": {},
   "outputs": [],
   "source": [
    "not_states = [\"Asia\", \"Europe\", \"U.S. Island Areas\", \"Africa\", \"Caribbean\", \"Oceania and At Sea\", \"Central America\",\"Puerto Rico\", \"South America\", \"Northern America\"] \n",
    "for i in not_states:\n",
    "    migration_data_2019 = migration_data_2019[migration_data_2019[\"state2_name\"] != i]"
   ]
  },
  {
   "cell_type": "code",
   "execution_count": 10,
   "id": "6dcd1d0a",
   "metadata": {},
   "outputs": [],
   "source": [
    "migration_data_2019[\"movedin\"] = pd.to_numeric(migration_data_2019[\"movedin\"])\n",
    "migration_data_2019[\"movedout\"] = pd.to_numeric(migration_data_2019[\"movedout\"])\n",
    "migration_data_2019[\"movednet\"] = pd.to_numeric(migration_data_2019[\"movednet\"])"
   ]
  },
  {
   "cell_type": "code",
   "execution_count": 11,
   "id": "c95593c9",
   "metadata": {},
   "outputs": [],
   "source": [
    "connection_string = f\"postgres:{password}@localhost:5432/project_3\"\n",
    "engine = create_engine(f'postgresql://{connection_string}')\n",
    "if not database_exists(engine.url):\n",
    "    create_database(engine.url)"
   ]
  },
  {
   "cell_type": "code",
   "execution_count": 12,
   "id": "a642b498",
   "metadata": {},
   "outputs": [],
   "source": [
    "migration_data_2019.to_sql(name='migration_data_2019', con=engine, if_exists='replace', index=False)"
   ]
  },
  {
   "cell_type": "code",
   "execution_count": 31,
   "id": "b1fe504d",
   "metadata": {},
   "outputs": [],
   "source": [
    "session = Session(engine)\n",
    "time.sleep(2)"
   ]
  },
  {
   "cell_type": "code",
   "execution_count": 47,
   "id": "9ceb9a60",
   "metadata": {},
   "outputs": [],
   "source": [
    "all_data = []\n",
    "for i in range(len(states)):\n",
    "    data = session.execute(f\"select sum(movedin) from migration_data_2019 where state1_name = '{states[i]}' group by state1_name, state2_name order by state2_name\").all()\n",
    "    data_fixed = []\n",
    "    for row in data:\n",
    "        data_fixed.append(list(map(int, list(row))))\n",
    "    data_fixed = [data_fixed[i][0] for i in range(len(data_fixed))]\n",
    "    data_fixed[i] = \"N/A\"\n",
    "    all_data.append(data_fixed)"
   ]
  },
  {
   "cell_type": "code",
   "execution_count": 48,
   "id": "13328e20",
   "metadata": {
    "scrolled": true
   },
   "outputs": [],
   "source": [
    "#[data_fixed[i][0] for i in range(len(data_fixed))]"
   ]
  },
  {
   "cell_type": "code",
   "execution_count": 58,
   "id": "e233657e",
   "metadata": {},
   "outputs": [],
   "source": [
    "df = pd.DataFrame(data=all_data, index=[states_abbrev, states], columns=df_columns)"
   ]
  },
  {
   "cell_type": "code",
   "execution_count": 76,
   "id": "26678845",
   "metadata": {
    "scrolled": false
   },
   "outputs": [],
   "source": [
    "df.reset_index(inplace=True)"
   ]
  },
  {
   "cell_type": "code",
   "execution_count": 80,
   "id": "04fb35ce",
   "metadata": {},
   "outputs": [],
   "source": [
    "df = df.rename(columns={'level_0':'abbrev', 'level_1':'state'})"
   ]
  },
  {
   "cell_type": "code",
   "execution_count": 84,
   "id": "56d23062",
   "metadata": {},
   "outputs": [],
   "source": [
    "df = df.set_index(['abbrev','state'])"
   ]
  },
  {
   "cell_type": "code",
   "execution_count": 86,
   "id": "c8211c3d",
   "metadata": {},
   "outputs": [],
   "source": [
    "csv = df.to_csv()"
   ]
  },
  {
   "cell_type": "code",
   "execution_count": 87,
   "id": "4a2d9b74",
   "metadata": {},
   "outputs": [
    {
     "data": {
      "text/plain": [
       "'abbrev,state,Alabama,Alaska,Arizona,Arkansas,California,Colorado,Connecticut,Delaware,District of Columbia,Florida,Georgia,Hawaii,Idaho,Illinois,Indiana,Iowa,Kansas,Kentucky,Louisiana,Maine,Maryland,Massachusetts,Michigan,Minnesota,Mississippi,Missouri,Montana,Nebraska,Nevada,New Hampshire,New Jersey,New Mexico,New York,North Carolina,North Dakota,Ohio,Oklahoma,Oregon,Pennsylvania,Rhode Island,South Carolina,South Dakota,Tennessee,Texas,Utah,Vermont,Virginia,Washington,West Virginia,Wisconsin,Wyoming\\nAL,Alabama,N/A,658,1496,897,3760,1984,1354,228,229,15510,21684,896,64,2609,1981,587,993,2031,2432,144,1009,1312,4342,770,6978,1349,241,345,652,208,1598,527,4984,4061,396,1874,813,382,3668,518,2195,84,9062,7611,748,72,3663,1315,396,1702,140\\nAK,Alaska,578,N/A,1016,185,3032,1396,98,81,38,1373,994,576,650,844,113,186,793,429,339,232,323,488,1102,1064,117,594,460,184,1270,186,454,478,1438,1555,116,216,476,1285,802,140,381,281,280,2431,694,98,764,2974,60,1124,240\\nAZ,Arizona,1505,2313,N/A,1135,61262,12372,2726,518,305,7825,4080,2419,3071,11995,3673,3431,3404,1562,1540,750,1996,5596,13072,13062,844,4008,2086,1593,7581,1226,7120,7484,10194,4876,1810,4704,4076,9471,9454,464,1234,1490,2136,15342,8736,928,5019,15723,412,11228,1135\\nAR,Arkansas,1103,246,972,N/A,4605,2574,206,35,91,2314,1790,185,180,2571,1009,528,1315,746,3187,88,561,430,1960,1228,3071,6714,259,470,564,110,628,297,748,1424,112,571,6500,375,2002,0,313,75,4749,15287,639,18,1152,1034,88,1514,386\\nCA,California,4004,3986,31489,3276,N/A,20369,10100,1117,4835,23312,12759,12333,4977,24170,6244,2792,4193,3184,5150,5122,11564,30720,20154,14928,2725,7706,2023,2948,24350,2248,24750,5115,72082,13196,1694,11441,5555,19943,26988,4090,5450,1190,6214,39343,9146,1634,17578,32640,748,13374,1706\\nCO,Colorado,3113,1763,9771,1318,28742,N/A,3566,193,907,13193,6134,3332,1630,10011,2707,2722,5978,2210,2718,1120,3263,6226,7016,9572,860,5517,1580,4340,3877,1556,6664,6531,14726,5266,1435,4013,4646,3927,8928,1164,2005,1438,3088,25209,3564,1380,6983,6417,480,8586,3646\\nCT,Connecticut,541,257,453,211,4043,763,N/A,385,438,5806,1533,568,13,1500,468,185,112,185,400,984,1396,10234,636,438,23,546,7,66,108,850,4676,294,25236,1765,55,1365,221,436,3126,2828,1042,137,567,2905,293,466,2136,707,168,221,47\\nDE,Delaware,210,155,127,0,529,152,1074,N/A,251,1116,213,42,6,563,77,64,91,53,111,254,7783,1008,270,64,68,94,43,65,47,140,10522,174,6074,849,140,155,215,61,22134,180,347,4,157,745,42,240,1420,157,186,118,0\\nDC,District of Columbia,356,123,407,62,3663,680,2162,231,N/A,1101,59,36,1589,570,124,22,213,284,432,13611,4588,1530,704,199,415,27,196,142,174,4376,91,9114,1384,23,1017,103,98,3890,400,647,33,797,1750,237,282,8598,391,260,510,15,\\nFL,Florida,12391,1990,7312,3876,27384,11850,29220,3056,1498,N/A,40412,2635,1115,26387,13469,4192,2725,10617,5849,7476,16635,36674,43448,13706,4723,10370,852,2095,4740,9766,60288,2918,125824,25802,1168,25842,3959,2724,61052,7078,12975,1191,15782,29051,3620,4372,27785,6952,3313,17044,519\\nGA,Georgia,15525,1140,3135,2097,15226,3715,7584,781,929,46596,N/A,1588,706,10079,3358,1860,3094,3872,4418,826,4380,6068,10260,4250,4709,4131,375,1323,1274,1198,15352,1236,32230,15775,160,7972,2063,1125,13696,906,15568,263,17387,19989,1358,542,11605,3197,874,5832,700\\nHI,Hawaii,660,601,1698,118,10805,1998,756,30,346,2394,2127,N/A,533,1262,535,378,799,327,339,162,637,1270,652,836,152,701,234,287,1475,46,704,397,3288,1770,73,819,432,1441,1566,394,1065,22,713,3274,932,36,3040,3837,57,246,45\\nID,Idaho,116,1060,3544,576,18365,2950,664,37,0,1380,556,546,N/A,521,262,170,397,353,313,360,246,440,704,838,94,924,1859,156,2581,80,106,577,2026,1181,706,294,695,5118,1340,0,158,126,446,2921,7440,202,892,10329,172,426,1800\\nIL,Illinois,1796,524,5239,1652,16294,3742,3538,125,1034,12452,4857,733,644,N/A,15400,9204,1783,3291,1426,560,2894,7526,20328,9162,1885,15273,310,1607,2073,748,6056,710,15038,4268,475,8118,1549,1322,8622,638,1868,434,5453,11523,1159,472,5623,3799,595,25996,278\\nIN,Indiana,1267,205,2537,979,7331,2342,1934,239,98,9233,3663,660,478,31871,N/A,1233,1262,10847,773,674,1075,1836,18348,3156,879,2736,469,329,1690,374,5372,651,5344,4324,354,12426,1110,854,5818,92,1524,189,4109,7102,656,332,2437,1798,312,5830,204\\nIA,Iowa,322,530,2150,640,3747,3479,202,18,116,3238,1114,278,720,14734,1362,N/A,1927,502,511,286,608,672,1682,13730,472,4355,339,7547,671,172,788,308,986,1118,472,1260,688,394,1160,168,389,2011,1140,3415,345,146,857,1459,192,7526,220\\nKS,Kansas,649,284,2164,1440,5531,5583,506,132,127,3378,2208,345,137,2693,1098,2481,N/A,919,775,78,642,1546,1798,2064,263,23636,517,2801,430,268,1202,764,3624,1588,186,1367,5833,506,1832,86,323,419,1329,8490,904,24,1588,1551,85,734,355\\nKY,Kentucky,2302,338,989,486,4253,1681,850,264,105,8286,4028,380,425,5274,10871,823,1434,N/A,843,896,1530,1506,5830,1020,685,2214,65,416,387,388,920,702,5970,3425,98,14991,783,679,4740,130,1432,103,11643,5612,790,64,3172,1300,2816,2552,146\\nLA,Louisiana,3019,446,568,2256,5137,1810,594,6,129,4611,3769,520,181,2229,531,499,771,1182,N/A,56,661,988,3374,528,8373,819,294,168,783,444,1632,529,4588,2086,120,1155,1274,320,2044,176,1203,102,1967,19554,379,78,1825,1162,257,904,103\\nME,Maine,183,138,344,42,1346,704,1850,129,149,2681,340,317,176,270,173,252,80,279,377,N/A,338,6072,446,128,58,399,157,77,28,4872,912,103,2411,1318,79,477,118,258,1238,641,340,20,327,1135,265,665,763,583,39,193,79\\nMD,Maryland,1184,329,2103,369,8683,2043,3420,6028,20581,10486,4846,1915,190,1958,1298,395,434,593,655,658,N/A,5032,3278,1228,760,631,104,412,691,950,13778,869,21152,6886,197,3273,599,475,27162,1050,1710,74,1325,5552,930,540,24373,1758,3976,2466,81\\nMA,Massachusetts,521,379,1599,236,12059,1949,10747,816,1479,10686,3192,431,301,3907,1258,240,543,567,1004,3922,3102,N/A,1697,1381,164,1305,90,326,742,10735,6936,402,21207,3073,73,1670,435,916,6501,8715,1807,46,1216,4543,813,2549,3614,1943,184,901,52\\nMI,Michigan,1820,688,4070,813,9600,2544,1203,135,384,12722,4477,572,753,12565,10583,877,1318,2330,1058,620,1467,2757,N/A,1976,1441,2720,461,727,1630,419,1910,518,5983,3860,558,13791,816,1240,4064,215,2029,270,4477,8387,722,191,3254,1988,527,4326,532\\nMN,Minnesota,425,563,2920,472,5891,3431,554,64,274,3952,1889,248,551,8084,1662,5783,1252,499,369,189,1022,1424,3043,N/A,331,1821,710,1754,788,188,550,539,2989,1484,9571,2448,801,863,1253,95,329,4961,1523,5087,804,50,1692,3829,61,18372,487\\nMS,Mississippi,6243,122,588,2189,3505,636,134,21,42,4654,3846,381,235,2790,1131,229,291,711,8929,108,766,888,1532,190,N/A,1266,264,445,670,48,1562,93,1664,1221,80,1092,600,276,1436,10,836,0,10020,6047,175,4,1192,991,590,1814,122\\nMO,Missouri,2084,1133,2863,7543,8978,5113,890,256,257,6619,3411,857,732,22284,3443,5852,21394,1855,1737,498,1288,2290,4640,4194,2235,N/A,344,2821,1479,620,2482,781,4980,3510,579,3324,4811,1307,3802,308,1528,704,2892,11412,1353,644,2815,2697,393,4768,417\\nMT,Montana,274,889,1266,340,4847,2937,378,0,13,1190,398,73,2294,872,538,278,321,84,246,238,131,382,740,3138,95,496,N/A,176,1060,228,126,382,1120,659,1333,457,302,1843,876,26,217,311,167,2460,1542,128,424,4868,70,944,2159\\nNE,Nebraska,309,210,1497,457,3448,4216,710,20,24,1926,635,269,387,2087,425,6774,3381,377,227,214,651,440,1462,4172,265,2090,199,N/A,548,140,580,667,1516,705,552,449,1041,452,806,468,245,2323,602,4440,956,14,897,521,79,1256,888\\nNV,Nevada,707,1071,6793,323,48530,4039,1614,145,101,5288,1626,4449,1879,3514,1042,930,538,637,683,230,919,1550,3928,3112,627,1286,830,552,N/A,336,2560,2341,6012,1626,223,1756,707,2676,3720,300,1087,443,979,5018,5385,112,1541,5629,117,1686,775\\nNH,New Hampshire,193,215,638,169,1621,671,2232,100,257,2409,505,172,81,381,437,105,35,226,107,4020,663,20118,521,188,91,210,56,42,562,N/A,642,95,3182,1077,9,412,102,192,1639,906,348,49,241,1191,181,2433,781,244,126,196,0\\nNJ,New Jersey,184,420,1089,118,7771,1495,3749,1666,817,10403,2512,443,138,1981,941,97,509,256,757,404,3770,3643,1437,498,227,668,114,273,515,495,N/A,231,55799,4160,155,1783,252,331,22050,376,1377,71,786,5301,173,191,3879,1005,399,481,56\\nNM,New Mexico,526,899,5642,301,6121,5101,334,95,67,1839,816,532,416,908,420,351,296,230,606,566,722,818,1666,958,528,845,496,105,1311,764,1312,N/A,2442,767,79,954,1178,986,1728,164,864,39,832,15367,865,106,1268,1647,72,596,614\\nNY,New York,1021,682,4279,786,24449,3725,14737,1151,3842,24288,7512,1245,432,6618,2066,1262,1063,1220,1894,1444,7211,16480,3999,1811,707,2530,256,344,1606,1856,33542,745,N/A,9522,329,5708,1293,1882,23040,1384,4723,199,3627,11908,867,3315,10005,3916,908,1893,118\\nNC,North Carolina,3744,1393,4948,1094,18699,4720,11954,1770,2273,32304,19240,2458,579,7417,4539,1384,1805,3736,2591,2418,10707,12660,12228,5104,1576,3713,532,715,1492,2436,25272,1368,51124,N/A,704,9624,1758,1655,25816,1868,28214,635,8574,15217,1143,1476,30852,4658,3478,4166,443\\nND,North Dakota,47,147,816,233,2211,738,120,31,4,941,612,84,405,500,101,858,177,46,377,22,118,82,1798,25044,265,643,1435,421,156,334,964,425,1784,149,N/A,260,420,348,840,14,250,2004,554,2326,277,0,209,1156,61,1294,458\\nOH,Ohio,2178,633,3072,936,10819,3251,4532,399,867,14665,5109,662,271,10391,12000,1486,1267,14472,1183,934,3215,5948,27110,3508,1280,2905,491,742,1725,1498,8184,737,19988,6909,404,N/A,876,1550,30580,474,3436,206,5648,10934,1979,586,6459,2752,7821,4868,185\\nOK,Oklahoma,568,579,2574,7642,8482,4947,392,166,127,4116,2271,751,399,2759,1248,819,6722,843,2083,206,754,1050,3910,1698,875,4381,420,685,818,350,1012,1867,3496,1852,209,1394,N/A,716,2012,262,822,273,1553,29345,846,274,1521,1770,200,1212,340\\nOR,Oregon,304,2240,6653,615,42460,3707,1006,180,342,3507,1234,2889,5277,2445,848,626,1111,498,1106,804,961,2782,3210,2658,388,1148,2143,412,3205,598,1260,1356,5708,2109,327,1321,1040,N/A,3334,260,824,337,1013,5425,2960,694,2287,23944,130,1740,771\\nPA,Pennsylvania,1613,587,2945,751,11018,3062,4905,6631,1834,16049,5163,900,438,4421,2528,527,919,1646,972,1272,18968,6196,2681,1887,930,1162,166,765,832,1433,41267,661,39412,7665,455,12091,1175,1415,N/A,1036,3359,408,2555,9448,1457,1123,10837,2558,4677,1933,196\\nRI,Rhode Island,85,38,347,59,2075,349,3823,9,49,2857,375,23,86,450,93,130,50,80,88,401,410,11249,280,33,77,183,108,55,53,672,1371,26,2673,740,55,342,10,197,824,N/A,322,23,425,1166,220,176,969,568,23,147,0\\nSC,South Carolina,2317,398,1619,759,7235,1803,8106,510,631,14872,15240,849,307,3989,2489,620,862,2430,1583,1262,5588,6156,5494,1606,937,1954,288,294,753,1648,10848,721,21570,30731,443,5782,682,586,15366,1692,N/A,271,5044,7873,871,498,8458,1909,1993,2888,147\\nSD,South Dakota,127,140,579,153,2645,1101,10,0,0,692,427,87,155,822,388,2931,567,31,409,20,169,130,296,8504,77,361,462,2435,190,90,290,164,240,281,1867,197,127,215,164,226,503,N/A,338,1084,464,0,251,427,11,1278,1132\\nTN,Tennessee,8366,926,2067,5597,9893,2685,3010,431,266,19587,15418,866,398,9370,5632,783,1794,12850,2424,1786,1671,4730,10696,2842,9828,3375,413,676,841,742,3586,620,11026,10091,174,6324,2028,1198,5672,400,4098,622,N/A,12576,1027,612,8456,2592,1267,2866,208\\nTX,Texas,8168,3147,18929,13548,73914,21111,5406,1400,1257,35709,18053,5803,2343,22824,9137,5601,11699,5856,28818,2160,10263,13246,19392,13448,9632,15676,1766,3903,7322,2522,17960,17691,43418,15192,1793,11326,25272,4396,23056,1708,7600,1524,12343,N/A,7811,1096,18032,13650,1415,10928,1534\\nUT,Utah,511,1094,7616,667,18513,4681,1612,86,280,2410,1670,1672,7753,1970,1106,494,582,628,473,192,918,1514,1758,1644,385,1409,1818,494,4769,440,1654,1142,4320,1477,814,1429,901,3412,3560,324,832,390,1186,6637,N/A,298,1755,5757,181,1964,1754\\nVT,Vermont,71,142,134,0,1042,471,1256,17,217,1044,146,49,36,426,22,60,11,235,33,696,463,3737,287,118,0,53,25,25,145,2545,1135,117,3079,289,11,185,15,270,869,360,107,131,199,401,184,N/A,443,303,23,59,118\\nVA,Virginia,2954,1148,2729,926,18867,4086,7264,1363,10194,20507,8847,2942,285,7503,2222,1275,1624,3189,2918,2016,27335,9126,8290,3450,1389,3238,306,912,1614,1644,17312,1700,31894,23440,206,6104,2537,605,26384,3012,8496,198,6545,15759,1833,1848,N/A,5164,5516,2828,171\\nWA,Washington,997,5034,11956,941,49860,9053,3090,274,1192,9186,4450,4543,11368,6486,1487,761,2220,964,1342,1194,3310,7370,7680,6604,580,2590,5258,1090,3699,1648,6306,2030,13760,5132,1527,3046,3013,31245,6226,1090,2282,486,2613,15751,6168,914,6233,N/A,477,4664,790\\nWV,West Virginia,237,73,159,123,773,583,814,244,354,2549,777,38,75,381,558,70,184,1405,167,410,5135,584,1164,268,157,198,17,78,63,166,1054,57,1372,2402,17,6566,130,100,10334,154,1313,35,1289,1160,191,52,6135,277,N/A,412,0\\nWI,Wisconsin,598,423,2408,589,5604,2848,665,192,281,4540,1782,367,443,25954,2715,4106,826,1168,1019,332,592,785,5186,19050,623,2135,266,562,791,250,802,736,1896,1835,676,2143,872,968,1529,75,611,472,1553,4711,1247,69,1570,1891,257,N/A,439\\nWY,Wyoming,471,271,672,252,2315,4951,176,59,7,426,173,39,1136,297,212,324,240,258,162,436,19,156,692,904,13,411,1219,1042,857,350,378,402,372,115,546,234,550,413,1094,46,127,743,135,2047,1798,4,444,923,103,448,N/A\\n'"
      ]
     },
     "execution_count": 87,
     "metadata": {},
     "output_type": "execute_result"
    }
   ],
   "source": [
    "csv"
   ]
  },
  {
   "cell_type": "code",
   "execution_count": null,
   "id": "550bae77",
   "metadata": {},
   "outputs": [],
   "source": []
  }
 ],
 "metadata": {
  "kernelspec": {
   "display_name": "Python 3",
   "language": "python",
   "name": "python3"
  },
  "language_info": {
   "codemirror_mode": {
    "name": "ipython",
    "version": 3
   },
   "file_extension": ".py",
   "mimetype": "text/x-python",
   "name": "python",
   "nbconvert_exporter": "python",
   "pygments_lexer": "ipython3",
   "version": "3.8.8"
  }
 },
 "nbformat": 4,
 "nbformat_minor": 5
}
